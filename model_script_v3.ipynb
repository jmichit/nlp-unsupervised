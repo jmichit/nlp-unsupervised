{
 "cells": [
  {
   "cell_type": "code",
   "execution_count": 119,
   "id": "a3d6341a",
   "metadata": {},
   "outputs": [],
   "source": [
    "import numpy as np\n",
    "import pandas as pd\n",
    "from sklearn.feature_extraction.text import CountVectorizer, ENGLISH_STOP_WORDS, FeatureHasher\n",
    "from sklearn.feature_extraction.text import TfidfVectorizer\n",
    "from sklearn.decomposition import TruncatedSVD\n",
    "from sklearn.decomposition import NMF\n",
    "from sklearn.metrics.pairwise import cosine_similarity\n",
    "from sklearn.cluster import KMeans\n",
    "\n",
    "from matplotlib import pyplot as plt\n",
    "import seaborn as sns"
   ]
  },
  {
   "cell_type": "code",
   "execution_count": 120,
   "id": "c128d7b3",
   "metadata": {},
   "outputs": [],
   "source": [
    "def display_topics(model, feature_names, no_top_words, topic_names=None):\n",
    "    for ix, topic in enumerate(model.components_):\n",
    "        if not topic_names or not topic_names[ix]:\n",
    "            print(\"\\nTopic \", ix)\n",
    "        else:\n",
    "            print(\"\\nTopic: '\",topic_names[ix],\"'\")\n",
    "        print(\", \".join([feature_names[i]\n",
    "                        for i in topic.argsort()[:-no_top_words - 1:-1]]))"
   ]
  },
  {
   "cell_type": "code",
   "execution_count": 121,
   "id": "522fc990",
   "metadata": {},
   "outputs": [
    {
     "data": {
      "text/plain": [
       "(176, 4)"
      ]
     },
     "execution_count": 121,
     "metadata": {},
     "output_type": "execute_result"
    }
   ],
   "source": [
    "ep = pd.read_csv('ep_desc.csv', index_col=0)\n",
    "ep.shape"
   ]
  },
  {
   "cell_type": "code",
   "execution_count": 122,
   "id": "a913f137",
   "metadata": {},
   "outputs": [],
   "source": [
    "scriptnum = list(range(102,278))\n",
    "ep['scriptnum'] = scriptnum"
   ]
  },
  {
   "cell_type": "code",
   "execution_count": 123,
   "id": "1186d385",
   "metadata": {},
   "outputs": [
    {
     "data": {
      "text/html": [
       "<div>\n",
       "<style scoped>\n",
       "    .dataframe tbody tr th:only-of-type {\n",
       "        vertical-align: middle;\n",
       "    }\n",
       "\n",
       "    .dataframe tbody tr th {\n",
       "        vertical-align: top;\n",
       "    }\n",
       "\n",
       "    .dataframe thead th {\n",
       "        text-align: right;\n",
       "    }\n",
       "</style>\n",
       "<table border=\"1\" class=\"dataframe\">\n",
       "  <thead>\n",
       "    <tr style=\"text-align: right;\">\n",
       "      <th></th>\n",
       "      <th>season</th>\n",
       "      <th>ep</th>\n",
       "      <th>title</th>\n",
       "      <th>summary</th>\n",
       "      <th>scriptnum</th>\n",
       "    </tr>\n",
       "  </thead>\n",
       "  <tbody>\n",
       "    <tr>\n",
       "      <th>19</th>\n",
       "      <td>4</td>\n",
       "      <td>20</td>\n",
       "      <td>Qpid</td>\n",
       "      <td>Q is back, as is Vash (of “The Captain’s Holi...</td>\n",
       "      <td>194</td>\n",
       "    </tr>\n",
       "  </tbody>\n",
       "</table>\n",
       "</div>"
      ],
      "text/plain": [
       "    season  ep   title                                            summary  \\\n",
       "19       4  20   Qpid    Q is back, as is Vash (of “The Captain’s Holi...   \n",
       "\n",
       "    scriptnum  \n",
       "19        194  "
      ]
     },
     "execution_count": 123,
     "metadata": {},
     "output_type": "execute_result"
    }
   ],
   "source": [
    "ep.sample(1)"
   ]
  },
  {
   "cell_type": "code",
   "execution_count": 124,
   "id": "112c57a9",
   "metadata": {},
   "outputs": [
    {
     "data": {
      "text/plain": [
       "(174, 5)"
      ]
     },
     "execution_count": 124,
     "metadata": {},
     "output_type": "execute_result"
    }
   ],
   "source": [
    "#import scripts broken down in to dialog chunks\n",
    "df = pd.read_csv('tng_scripts.csv', index_col=0)\n",
    "df.shape"
   ]
  },
  {
   "cell_type": "code",
   "execution_count": 125,
   "id": "fa0a21dc",
   "metadata": {},
   "outputs": [
    {
     "data": {
      "text/html": [
       "<div>\n",
       "<style scoped>\n",
       "    .dataframe tbody tr th:only-of-type {\n",
       "        vertical-align: middle;\n",
       "    }\n",
       "\n",
       "    .dataframe tbody tr th {\n",
       "        vertical-align: top;\n",
       "    }\n",
       "\n",
       "    .dataframe thead th {\n",
       "        text-align: right;\n",
       "    }\n",
       "</style>\n",
       "<table border=\"1\" class=\"dataframe\">\n",
       "  <thead>\n",
       "    <tr style=\"text-align: right;\">\n",
       "      <th></th>\n",
       "      <th>episode</th>\n",
       "      <th>script</th>\n",
       "      <th>len_char</th>\n",
       "      <th>len_words</th>\n",
       "      <th>season</th>\n",
       "    </tr>\n",
       "  </thead>\n",
       "  <tbody>\n",
       "    <tr>\n",
       "      <th>143</th>\n",
       "      <td>247</td>\n",
       "      <td>\\n\\n\\n\\n\\n\\n\\n                STAR TREK: THE N...</td>\n",
       "      <td>76882</td>\n",
       "      <td>3384</td>\n",
       "      <td>6</td>\n",
       "    </tr>\n",
       "    <tr>\n",
       "      <th>105</th>\n",
       "      <td>207</td>\n",
       "      <td>\\n\\n\\n\\n\\n                STAR TREK: THE NEXT ...</td>\n",
       "      <td>64402</td>\n",
       "      <td>3049</td>\n",
       "      <td>5</td>\n",
       "    </tr>\n",
       "    <tr>\n",
       "      <th>37</th>\n",
       "      <td>139</td>\n",
       "      <td>\\n\\n\\n\\n\\n                STAR TREK: THE NEXT ...</td>\n",
       "      <td>62143</td>\n",
       "      <td>3085</td>\n",
       "      <td>2</td>\n",
       "    </tr>\n",
       "    <tr>\n",
       "      <th>102</th>\n",
       "      <td>204</td>\n",
       "      <td>\\n\\n\\n\\n\\n\\n\\n\\n                STAR TREK: THE...</td>\n",
       "      <td>66026</td>\n",
       "      <td>2956</td>\n",
       "      <td>5</td>\n",
       "    </tr>\n",
       "    <tr>\n",
       "      <th>129</th>\n",
       "      <td>233</td>\n",
       "      <td>\\n\\n\\n\\n\\n\\n\\n                STAR TREK: THE N...</td>\n",
       "      <td>71893</td>\n",
       "      <td>3150</td>\n",
       "      <td>6</td>\n",
       "    </tr>\n",
       "  </tbody>\n",
       "</table>\n",
       "</div>"
      ],
      "text/plain": [
       "     episode                                             script  len_char  \\\n",
       "143      247  \\n\\n\\n\\n\\n\\n\\n                STAR TREK: THE N...     76882   \n",
       "105      207  \\n\\n\\n\\n\\n                STAR TREK: THE NEXT ...     64402   \n",
       "37       139  \\n\\n\\n\\n\\n                STAR TREK: THE NEXT ...     62143   \n",
       "102      204  \\n\\n\\n\\n\\n\\n\\n\\n                STAR TREK: THE...     66026   \n",
       "129      233  \\n\\n\\n\\n\\n\\n\\n                STAR TREK: THE N...     71893   \n",
       "\n",
       "     len_words  season  \n",
       "143       3384       6  \n",
       "105       3049       5  \n",
       "37        3085       2  \n",
       "102       2956       5  \n",
       "129       3150       6  "
      ]
     },
     "execution_count": 125,
     "metadata": {},
     "output_type": "execute_result"
    }
   ],
   "source": [
    "df.sample(5)"
   ]
  },
  {
   "cell_type": "markdown",
   "id": "c7b995d6",
   "metadata": {},
   "source": [
    "### Topic Modeling with CountVectorizer and TruncatedSVD"
   ]
  },
  {
   "cell_type": "code",
   "execution_count": 129,
   "id": "e3959506",
   "metadata": {},
   "outputs": [],
   "source": [
    "stop_words = ENGLISH_STOP_WORDS.union(\"star\", \"trek\", \"tng\")\n",
    "\n",
    "countv = CountVectorizer(stop_words = stop_words, ngram_range=(1,4))"
   ]
  },
  {
   "cell_type": "code",
   "execution_count": 130,
   "id": "e7da8b36",
   "metadata": {},
   "outputs": [
    {
     "data": {
      "text/plain": [
       "(174, 1835529)"
      ]
     },
     "execution_count": 130,
     "metadata": {},
     "output_type": "execute_result"
    }
   ],
   "source": [
    "doc_word = countv.fit_transform(df['script'])\n",
    "doc_word.shape"
   ]
  },
  {
   "cell_type": "code",
   "execution_count": 131,
   "id": "f3c6af7f",
   "metadata": {},
   "outputs": [],
   "source": [
    "model = TruncatedSVD(n_components = 5)"
   ]
  },
  {
   "cell_type": "code",
   "execution_count": 132,
   "id": "5343c92b",
   "metadata": {},
   "outputs": [
    {
     "data": {
      "text/plain": [
       "(174, 5)"
      ]
     },
     "execution_count": 132,
     "metadata": {},
     "output_type": "execute_result"
    }
   ],
   "source": [
    "doc_topic_matrix = model.fit_transform(doc_word)\n",
    "doc_topic_matrix.shape"
   ]
  },
  {
   "cell_type": "code",
   "execution_count": 133,
   "id": "95ccb738",
   "metadata": {},
   "outputs": [
    {
     "data": {
      "text/html": [
       "<div>\n",
       "<style scoped>\n",
       "    .dataframe tbody tr th:only-of-type {\n",
       "        vertical-align: middle;\n",
       "    }\n",
       "\n",
       "    .dataframe tbody tr th {\n",
       "        vertical-align: top;\n",
       "    }\n",
       "\n",
       "    .dataframe thead th {\n",
       "        text-align: right;\n",
       "    }\n",
       "</style>\n",
       "<table border=\"1\" class=\"dataframe\">\n",
       "  <thead>\n",
       "    <tr style=\"text-align: right;\">\n",
       "      <th></th>\n",
       "      <th>topic_0</th>\n",
       "      <th>topic_1</th>\n",
       "      <th>topic_2</th>\n",
       "      <th>topic_3</th>\n",
       "      <th>topic_4</th>\n",
       "      <th>episode</th>\n",
       "      <th>season</th>\n",
       "    </tr>\n",
       "  </thead>\n",
       "  <tbody>\n",
       "    <tr>\n",
       "      <th>0</th>\n",
       "      <td>527.957922</td>\n",
       "      <td>93.042874</td>\n",
       "      <td>199.428184</td>\n",
       "      <td>-144.573798</td>\n",
       "      <td>-125.247644</td>\n",
       "      <td>102</td>\n",
       "      <td>1</td>\n",
       "    </tr>\n",
       "    <tr>\n",
       "      <th>1</th>\n",
       "      <td>346.567323</td>\n",
       "      <td>-11.052708</td>\n",
       "      <td>6.888561</td>\n",
       "      <td>-78.741172</td>\n",
       "      <td>-0.991007</td>\n",
       "      <td>103</td>\n",
       "      <td>1</td>\n",
       "    </tr>\n",
       "    <tr>\n",
       "      <th>2</th>\n",
       "      <td>305.269102</td>\n",
       "      <td>85.702864</td>\n",
       "      <td>14.088841</td>\n",
       "      <td>-82.334376</td>\n",
       "      <td>-8.279060</td>\n",
       "      <td>104</td>\n",
       "      <td>1</td>\n",
       "    </tr>\n",
       "    <tr>\n",
       "      <th>3</th>\n",
       "      <td>23.195435</td>\n",
       "      <td>1.491108</td>\n",
       "      <td>-2.688621</td>\n",
       "      <td>-5.287994</td>\n",
       "      <td>-3.330778</td>\n",
       "      <td>105</td>\n",
       "      <td>1</td>\n",
       "    </tr>\n",
       "    <tr>\n",
       "      <th>4</th>\n",
       "      <td>321.101274</td>\n",
       "      <td>102.534267</td>\n",
       "      <td>68.751070</td>\n",
       "      <td>-58.264302</td>\n",
       "      <td>-15.019280</td>\n",
       "      <td>106</td>\n",
       "      <td>1</td>\n",
       "    </tr>\n",
       "  </tbody>\n",
       "</table>\n",
       "</div>"
      ],
      "text/plain": [
       "      topic_0     topic_1     topic_2     topic_3     topic_4  episode  season\n",
       "0  527.957922   93.042874  199.428184 -144.573798 -125.247644      102       1\n",
       "1  346.567323  -11.052708    6.888561  -78.741172   -0.991007      103       1\n",
       "2  305.269102   85.702864   14.088841  -82.334376   -8.279060      104       1\n",
       "3   23.195435    1.491108   -2.688621   -5.287994   -3.330778      105       1\n",
       "4  321.101274  102.534267   68.751070  -58.264302  -15.019280      106       1"
      ]
     },
     "execution_count": 133,
     "metadata": {},
     "output_type": "execute_result"
    }
   ],
   "source": [
    "doc_topic_matrix_df = pd.DataFrame(doc_topic_matrix).add_prefix('topic_')\n",
    "\n",
    "columns_to_copy = ['episode', 'season']\n",
    "doc_topic_matrix_df[columns_to_copy] = df[columns_to_copy]\n",
    "\n",
    "doc_topic_matrix_df.head()"
   ]
  },
  {
   "cell_type": "code",
   "execution_count": 134,
   "id": "09c846fd",
   "metadata": {},
   "outputs": [
    {
     "data": {
      "text/plain": [
       "5"
      ]
     },
     "execution_count": 134,
     "metadata": {},
     "output_type": "execute_result"
    }
   ],
   "source": [
    "model.n_components"
   ]
  },
  {
   "cell_type": "code",
   "execution_count": 135,
   "id": "6668a0a3",
   "metadata": {},
   "outputs": [
    {
     "data": {
      "text/plain": [
       "array([9828.52356308, 6943.94197287, 6554.80534499, 5333.54357066,\n",
       "       4134.89943266])"
      ]
     },
     "execution_count": 135,
     "metadata": {},
     "output_type": "execute_result"
    }
   ],
   "source": [
    "model.explained_variance_"
   ]
  },
  {
   "cell_type": "code",
   "execution_count": 136,
   "id": "30d5336f",
   "metadata": {},
   "outputs": [
    {
     "data": {
      "text/plain": [
       "array([0.07034929, 0.04970242, 0.04691711, 0.03817572, 0.02959623])"
      ]
     },
     "execution_count": 136,
     "metadata": {},
     "output_type": "execute_result"
    }
   ],
   "source": [
    "model.explained_variance_ratio_"
   ]
  },
  {
   "cell_type": "code",
   "execution_count": 137,
   "id": "5fee95ba",
   "metadata": {},
   "outputs": [],
   "source": [
    "def top_scripts(doc_topic_matrix, topic, num):\n",
    "    return (doc_topic_matrix\n",
    "            .sort_values(by=topic, ascending=False)\n",
    "                .head(num)['episode']\n",
    "            .values)\n",
    "\n",
    "def top_words(doc_topic_matrix, topic, num):\n",
    "    return (doc_topic_matrix\n",
    "            .sort_values(by=topic, ascending=False)\n",
    "            .head(num))[topic]"
   ]
  },
  {
   "cell_type": "code",
   "execution_count": 138,
   "id": "ee48d982",
   "metadata": {},
   "outputs": [
    {
     "name": "stdout",
     "output_type": "stream",
     "text": [
      "\n",
      "Topic  0\n",
      "picard, riker, data, star, trek, star trek, act, worf, geordi, continued\n",
      "\n",
      "Topic  1\n",
      "picard, captain, vash, ro, continued picard, jameson, jason, wesley, 87, tasha\n",
      "\n",
      "Topic  2\n",
      "riker, lieutenant, troi, pulaski, soren, lt, lt riker, 89, lieutenant riker, 89 act\n",
      "\n",
      "Topic  3\n",
      "worf, klingon, alexander, kahless, beat, act, gowron, trek, star trek, star\n",
      "\n",
      "Topic  4\n",
      "geordi, beverly, barclay, troi, 92, 92 act, beat, 11, star, star trek\n"
     ]
    }
   ],
   "source": [
    "display_topics(model, countv.get_feature_names(), 10)"
   ]
  },
  {
   "cell_type": "code",
   "execution_count": 111,
   "id": "366b0327",
   "metadata": {},
   "outputs": [
    {
     "data": {
      "text/plain": [
       "array([102, 148, 251, 250, 182])"
      ]
     },
     "execution_count": 111,
     "metadata": {},
     "output_type": "execute_result"
    }
   ],
   "source": [
    "tpscripts = top_scripts(doc_topic_matrix_df, 'topic_0', 5)\n",
    "tpscripts"
   ]
  },
  {
   "cell_type": "code",
   "execution_count": 112,
   "id": "80b1b602",
   "metadata": {},
   "outputs": [
    {
     "data": {
      "text/html": [
       "<div>\n",
       "<style scoped>\n",
       "    .dataframe tbody tr th:only-of-type {\n",
       "        vertical-align: middle;\n",
       "    }\n",
       "\n",
       "    .dataframe tbody tr th {\n",
       "        vertical-align: top;\n",
       "    }\n",
       "\n",
       "    .dataframe thead th {\n",
       "        text-align: right;\n",
       "    }\n",
       "</style>\n",
       "<table border=\"1\" class=\"dataframe\">\n",
       "  <thead>\n",
       "    <tr style=\"text-align: right;\">\n",
       "      <th></th>\n",
       "      <th>season</th>\n",
       "      <th>ep</th>\n",
       "      <th>title</th>\n",
       "      <th>summary</th>\n",
       "      <th>scriptnum</th>\n",
       "    </tr>\n",
       "  </thead>\n",
       "  <tbody>\n",
       "    <tr>\n",
       "      <th>0</th>\n",
       "      <td>1</td>\n",
       "      <td>1-2</td>\n",
       "      <td>Encounter at Farpoint</td>\n",
       "      <td>Essentially everything and everyone in the ne...</td>\n",
       "      <td>102</td>\n",
       "    </tr>\n",
       "    <tr>\n",
       "      <th>22</th>\n",
       "      <td>2</td>\n",
       "      <td>22</td>\n",
       "      <td>Shades of Gray</td>\n",
       "      <td>A clip show about which we will never speak a...</td>\n",
       "      <td>148</td>\n",
       "    </tr>\n",
       "    <tr>\n",
       "      <th>7</th>\n",
       "      <td>4</td>\n",
       "      <td>8</td>\n",
       "      <td>Future Imperfect</td>\n",
       "      <td>Commander Riker’s head trip: Sixteen years in...</td>\n",
       "      <td>182</td>\n",
       "    </tr>\n",
       "    <tr>\n",
       "      <th>0</th>\n",
       "      <td>6</td>\n",
       "      <td>24</td>\n",
       "      <td>Second Chances</td>\n",
       "      <td>Season 6 of The Next Generation may definitel...</td>\n",
       "      <td>250</td>\n",
       "    </tr>\n",
       "    <tr>\n",
       "      <th>0</th>\n",
       "      <td>6</td>\n",
       "      <td>25</td>\n",
       "      <td>Timescape</td>\n",
       "      <td>An away mission finds itself in an area of sp...</td>\n",
       "      <td>251</td>\n",
       "    </tr>\n",
       "  </tbody>\n",
       "</table>\n",
       "</div>"
      ],
      "text/plain": [
       "    season   ep                    title  \\\n",
       "0        1  1-2   Encounter at Farpoint    \n",
       "22       2   22          Shades of Gray    \n",
       "7        4    8        Future Imperfect    \n",
       "0        6   24          Second Chances    \n",
       "0        6   25               Timescape    \n",
       "\n",
       "                                              summary  scriptnum  \n",
       "0    Essentially everything and everyone in the ne...        102  \n",
       "22   A clip show about which we will never speak a...        148  \n",
       "7    Commander Riker’s head trip: Sixteen years in...        182  \n",
       "0    Season 6 of The Next Generation may definitel...        250  \n",
       "0    An away mission finds itself in an area of sp...        251  "
      ]
     },
     "execution_count": 112,
     "metadata": {},
     "output_type": "execute_result"
    }
   ],
   "source": [
    "ep[ep.scriptnum.isin(tpscripts)]"
   ]
  },
  {
   "cell_type": "code",
   "execution_count": 113,
   "id": "9d7eea57",
   "metadata": {},
   "outputs": [
    {
     "data": {
      "text/plain": [
       "0      527.957922\n",
       "46     429.653144\n",
       "147    407.129650\n",
       "146    401.025452\n",
       "80     394.327054\n",
       "86     394.027273\n",
       "78     392.948918\n",
       "154    387.908086\n",
       "64     382.104264\n",
       "83     379.028199\n",
       "Name: topic_0, dtype: float64"
      ]
     },
     "execution_count": 113,
     "metadata": {},
     "output_type": "execute_result"
    }
   ],
   "source": [
    "top_words(doc_topic_matrix_df, 'topic_0', 10)"
   ]
  },
  {
   "cell_type": "code",
   "execution_count": null,
   "id": "11b0587d",
   "metadata": {},
   "outputs": [],
   "source": []
  },
  {
   "cell_type": "code",
   "execution_count": null,
   "id": "e5dedf10",
   "metadata": {},
   "outputs": [],
   "source": []
  },
  {
   "cell_type": "code",
   "execution_count": null,
   "id": "0bf87590",
   "metadata": {},
   "outputs": [],
   "source": []
  },
  {
   "cell_type": "code",
   "execution_count": null,
   "id": "5478fa1f",
   "metadata": {},
   "outputs": [],
   "source": []
  },
  {
   "cell_type": "code",
   "execution_count": null,
   "id": "4168d5d3",
   "metadata": {},
   "outputs": [],
   "source": []
  },
  {
   "cell_type": "code",
   "execution_count": 114,
   "id": "50eb9418",
   "metadata": {},
   "outputs": [
    {
     "data": {
      "text/plain": [
       "array([203090.38803191, 115224.14580527, 112700.78018282,   7774.64855516,\n",
       "       121970.58933432,  48834.71090147, 119297.58719468, 106595.4254282 ,\n",
       "       143216.80716343, 104585.78765578, 114550.87635452,  81554.7979944 ,\n",
       "       102156.35803568,  23157.00594367,  72995.88624863,  88569.99331774,\n",
       "        94535.87732384,  92502.74318695,  90992.52223615,  99442.65845201,\n",
       "        90034.61379506,   4323.64648842, 123522.93557208, 120764.74586208,\n",
       "         2137.67788298, 106003.80607838, 123346.85512922,  74078.21825102,\n",
       "         8486.12393926,    328.27573281, 102786.75194852,  98219.67164361,\n",
       "        71555.01472636,  99231.71700254,  20369.40890176, 113449.35834048,\n",
       "        77922.5610421 , 128688.38473893,  84633.10995965, 105190.46863679,\n",
       "       103935.24405412, 110347.01982097,  98310.36065252, 126903.66989607,\n",
       "        81317.70549197, 106031.02641737, 143312.06361783,  91271.01774286,\n",
       "        98835.93055989, 118462.35969958, 104426.22122077,  99749.33060072,\n",
       "       104042.33239328,  95174.68942247,   2603.5249805 , 104459.6561608 ,\n",
       "        32411.31963745,  91912.82159176,  87171.14776953,  92318.60037303,\n",
       "       128194.34550635, 110571.71257116,  86984.25057046,  96193.82619826,\n",
       "       143283.45095431, 143288.55026811, 111350.27843037,  76529.81117459,\n",
       "        77395.2285712 , 108923.42229465,  79737.90586909,  81952.4438196 ,\n",
       "       107943.23547081,  48582.43552479, 119573.90739731,  91988.94734232,\n",
       "        90651.84923244,  82232.07025569, 117511.54031484,  63900.41926971,\n",
       "       136854.36188372,  44668.78392209,  93434.79176083, 103952.32434492,\n",
       "       101948.66869028, 118169.00755559, 125896.93233965,  86937.17581775,\n",
       "        81894.99235677,  64466.34898941,  65294.41903783,  75568.81411181,\n",
       "       114487.79178163,  92282.2266912 ,  65193.83135243,  46416.22083087,\n",
       "        27171.28011425,  58105.73548889,  89698.12396623,  92133.21978153,\n",
       "       126882.24251286, 113044.40865317,  84779.42062368,  96635.74071467,\n",
       "        52863.30872851,  84749.8515563 ,  41022.51616221, 100756.71002755,\n",
       "        20837.42865223,   2104.60173717,  71040.8343142 ,  76780.17214623,\n",
       "       111823.43700615,  13847.36909313,  71018.64854332,  95434.00333058,\n",
       "       104431.38854042,  68393.94285396,  98532.93058743,  77996.09396785,\n",
       "        80647.05316691,  54633.3612649 , 111041.60930305,    323.02473926,\n",
       "        63111.08473093, 106284.45330449,  83646.89456931,  91737.47528033,\n",
       "        83599.39625451,  30060.65408626,  58537.65004493,  80711.57274481,\n",
       "       106112.35572783, 106812.48593833,  99385.64713377,  71756.22681375,\n",
       "        75836.93752695, 137523.94926618,  52969.97890913,  44509.35318966,\n",
       "        80780.14050986, 121858.4070159 , 128129.81561216, 121766.95010328,\n",
       "        37088.22657721,  65099.60666447, 131622.71461615, 122953.33123691,\n",
       "       105187.04598741,  58114.05687931, 107422.52756027,  69580.22279254,\n",
       "       106419.73582491, 113617.42092018, 106942.06227961,  70512.35055002,\n",
       "       116429.38376803, 102673.02126766,  61564.49417934,  83662.65984948,\n",
       "       122098.93149321,  37100.89197277,  74241.10199311,  85790.23721703,\n",
       "        56486.76476415,   1903.40455115,  16149.55193043,  25805.29066019,\n",
       "       100031.30164538,  59512.17146794, 136695.70217107, 100728.20303598,\n",
       "        79019.46760323,   9780.7564553 ])"
      ]
     },
     "execution_count": 114,
     "metadata": {},
     "output_type": "execute_result"
    }
   ],
   "source": [
    "doc_topic.dot(doc_topic[4])"
   ]
  },
  {
   "cell_type": "code",
   "execution_count": null,
   "id": "24ea95e0",
   "metadata": {},
   "outputs": [],
   "source": []
  },
  {
   "cell_type": "markdown",
   "id": "a72e3f38",
   "metadata": {},
   "source": [
    "### MNF Model with CounterVectorizer"
   ]
  },
  {
   "cell_type": "code",
   "execution_count": 115,
   "id": "e710d3b8",
   "metadata": {},
   "outputs": [
    {
     "name": "stderr",
     "output_type": "stream",
     "text": [
      "/opt/anaconda3/envs/metis/lib/python3.8/site-packages/sklearn/decomposition/_nmf.py:312: FutureWarning: The 'init' value, when 'init=None' and n_components is less than n_samples and n_features, will be changed from 'nndsvd' to 'nndsvda' in 1.1 (renaming of 0.26).\n",
      "  warnings.warn((\"The 'init' value, when 'init=None' and \"\n"
     ]
    }
   ],
   "source": [
    "nmf_model = NMF(n_components = 10)\n",
    "doc_topic = nmf_model.fit_transform(doc_word)"
   ]
  },
  {
   "cell_type": "code",
   "execution_count": 116,
   "id": "047540c5",
   "metadata": {},
   "outputs": [
    {
     "name": "stdout",
     "output_type": "stream",
     "text": [
      "\n",
      "Topic  0\n",
      "data, geordi, star, trek, star trek, act, continued, rev, 10, continuing, 93, lore, worf, doctor, int, beat, 93 act, continued data, juliana, soong\n",
      "\n",
      "Topic  1\n",
      "picard, star, trek, star trek, act, continued, rev, captain, beat, riker, ro, 91, int, 91 act, ship, don, vash, looks, room, continued picard\n",
      "\n",
      "Topic  2\n",
      "riker, star trek, trek, act, star, troi, continued, lieutenant, data, commander, rev, 93, beverly, soren, beat, looks, doctor, 93 act, int, lt\n",
      "\n",
      "Topic  3\n",
      "worf, star trek, trek, star, act, klingon, continued, alexander, kahless, beat, gowron, rev, looks, mtar, ehleyr, kurn, father, 10, moment, int\n",
      "\n",
      "Topic  4\n",
      "geordi, star, star trek, trek, act, riker, picard, rev, int, continued, data, optical, beat, 92, aquiel, scott, worf, ship, enterprise, 92 act\n",
      "\n",
      "Topic  5\n",
      "troi, lwaxana, star, star trek, trek, act, clara, continued, picard, mother, rev, int, alkar, mrs troi, mrs, 92, maques, dark, looks, don\n",
      "\n",
      "Topic  6\n",
      "beverly, star, star trek, trek, act, wesley, continued, picard, beat, 11, doctor, rev, geordi, looks, voice, ve, 93, int, don, ronin\n",
      "\n",
      "Topic  7\n",
      "picard, riker, data, wesley, captain, sir, bridge, int, star, trek, star trek, enterprise, tasha, optical, act, angle, 89, main, troi, continued\n",
      "\n",
      "Topic  8\n",
      "picard, 90, 90 act, rev, star, trek, star trek, act, riker, captain, data, worf, continued, int, rev 90, optical, brien, rev 90 act, enterprise, wesley\n",
      "\n",
      "Topic  9\n",
      "barclay, geordi, brien, star, star trek, trek, act, 92, transporter, 92 act, fear, riker, troi, realm, realm fear, continued, trek realm, star trek realm, trek realm fear, star trek realm fear\n"
     ]
    }
   ],
   "source": [
    "display_topics(nmf_model, countv.get_feature_names(), 20)"
   ]
  },
  {
   "cell_type": "markdown",
   "id": "e0aeb458",
   "metadata": {},
   "source": [
    "# Tfidf with NMD"
   ]
  },
  {
   "cell_type": "code",
   "execution_count": 607,
   "id": "be7e400e",
   "metadata": {},
   "outputs": [
    {
     "data": {
      "text/plain": [
       "(174, 1105402)"
      ]
     },
     "execution_count": 607,
     "metadata": {},
     "output_type": "execute_result"
    }
   ],
   "source": [
    "#tfidf = TfidfVectorizer(ngram_range=(1,3), max_df=0.75, min_df=0.1)\n",
    "tfidf = TfidfVectorizer(ngram_range=(1,3),  stop_words = 'english')\n",
    "\n",
    "doc_word = tfidf.fit_transform(df['script'])\n",
    "doc_word.shape"
   ]
  },
  {
   "cell_type": "code",
   "execution_count": 141,
   "id": "d2b19167",
   "metadata": {},
   "outputs": [],
   "source": [
    "nmf_model =  NMF(n_components=20)"
   ]
  },
  {
   "cell_type": "code",
   "execution_count": 144,
   "id": "acb90de5",
   "metadata": {},
   "outputs": [
    {
     "name": "stderr",
     "output_type": "stream",
     "text": [
      "/opt/anaconda3/envs/metis/lib/python3.8/site-packages/sklearn/decomposition/_nmf.py:312: FutureWarning: The 'init' value, when 'init=None' and n_components is less than n_samples and n_features, will be changed from 'nndsvd' to 'nndsvda' in 1.1 (renaming of 0.26).\n",
      "  warnings.warn((\"The 'init' value, when 'init=None' and \"\n"
     ]
    }
   ],
   "source": [
    "doc_topic = nmf_model.fit_transform(doc_word)"
   ]
  },
  {
   "cell_type": "code",
   "execution_count": 145,
   "id": "832cd9cf",
   "metadata": {},
   "outputs": [],
   "source": [
    "doc_topic_df = pd.DataFrame(doc_topic).add_prefix('topic_')\n"
   ]
  },
  {
   "cell_type": "code",
   "execution_count": null,
   "id": "02d3e401",
   "metadata": {},
   "outputs": [],
   "source": [
    "doc_topic_df"
   ]
  },
  {
   "cell_type": "code",
   "execution_count": 542,
   "id": "d73e6dd9",
   "metadata": {},
   "outputs": [
    {
     "name": "stdout",
     "output_type": "stream",
     "text": [
      "\n",
      "Topic  0\n",
      "loud pistol, of passive resistance, riker crouches, staff to, column in, 89 include, 8a continued throws, puppies dozen, purposely leaving, see to your, acre plot of, 90e int, around disappointed, picard pack his, be kidding joval, 90e, camera on his, half away discarding, factly turns to, avoid bonding in\n",
      "\n",
      "Topic  1\n",
      "a4, a3, since the enterprise, loud pistol, indelicate but pause, puppies dozen, see to your, purposely leaving, selecting the planet, column in, acre plot of, around disappointed, of passive resistance, of enjoyment involved, factly turns to, satie it must, have minute geordi, knows it his, still dead to, of falling over\n",
      "\n",
      "Topic  2\n",
      "annoyed at this, it is round, factly turns to, noble in reason, geordi moves after, pursued in good, seeing his, seeing himself in, geordi not bad, klingon medicine refers, klingon memories, seeing picard, seeing patient in, pursuing riker no, noble in, seeds isabella can, pursue relationships, seeds isabella tired, must resort, geordi moves closer\n",
      "\n",
      "Topic  3\n",
      "abhor all, abeyance, column in, loud pistol, of passive resistance, factly turns to, around disappointed, puppies dozen, purposely leaving, see to your, acre plot of, still dead to, anna care for, 07 06, selecting the planet, camera on his, anyway, right smiles people, 09 04, 08 04\n",
      "\n",
      "Topic  4\n",
      "declare the treaty, flaring from the, still dead to, here as the, not bear, seeing picard can, pursuing ship, data wants to, it will have, all and zorn, heavy drawer they, loud pistol, dna material in, he not really, not beat then, increasing tension kennelly, not been as, seeing picard isn, seeing picard hurt, it you commander\n",
      "\n",
      "Topic  5\n",
      "92 on picard, 92 new angle, loud pistol, moving he launches, of passive resistance, column in, acre plot of, puppies dozen, purposely leaving, see to your, factly turns to, of faint envy, still dead to, of fair, staff to, of enjoyment involved, camera on his, half away discarding, selecting the planet, difficult makes it\n",
      "\n",
      "Topic  6\n",
      "on confronts, loud pistol, die for, swirl of, see what the, pursue but then, see what there, seeing me durken, pursuing an, infection nothing picard, is there anyone, he wearily, he rapidly, individuality, mixed stone and, sweeps thin, for the conductor, of passive resistance, mixed reactions as, pursuing her\n",
      "\n",
      "Topic  7\n",
      "have indicate this, aban no the, information directly into, aback worf looks, see very clearly, purposes yes, moving around like, loud pistol, before docked at, see view, before data working, his facade crumbling, moving at, going to slam, moving at high, of events troi, still dead to, acre plot of, before doctor, before doctor soong\n",
      "\n",
      "Topic  8\n",
      "at security wesley, 98 int, 98 emphasizing main, path picard, loud pistol, of passive resistance, sufficient to protect, column in, of faith worf, sufficiently, of fajo, of enjoyment involved, acre plot of, puppies dozen, for the conductor, see to your, purposely leaving, at the dead, factly turns to, suffice barber\n",
      "\n",
      "Topic  9\n",
      "opposite they simply, progress of metal, looking at test, seeing you too, pursuit not wholly, show of strength, seeing your name, show picard yes, loud pistol, moving around like, lips suddenly, pursuing the solution, seeing someone else, a4, so completely human, show proper, a3, opticaal hayne and, seeing something, opens and alkar\n"
     ]
    }
   ],
   "source": [
    "display_topics(nmf_model, countv.get_feature_names(), 20)"
   ]
  },
  {
   "cell_type": "code",
   "execution_count": 139,
   "id": "dab7b350",
   "metadata": {},
   "outputs": [],
   "source": [
    "kmeans = KMeans(n_clusters=5)"
   ]
  },
  {
   "cell_type": "code",
   "execution_count": 140,
   "id": "f1c6dbca",
   "metadata": {},
   "outputs": [
    {
     "data": {
      "image/png": "[encoded data removed]",
      "text/plain": [
       "<Figure size 432x288 with 2 Axes>"
      ]
     },
     "metadata": {
      "needs_background": "light"
     },
     "output_type": "display_data"
    }
   ],
   "source": [
    "### Write code here\n",
    "output = []\n",
    "sill = []\n",
    "\n",
    "from sklearn.metrics import silhouette_score\n",
    "\n",
    "for i in range(2,20):\n",
    "    model = KMeans(n_clusters=i)\n",
    "    model.fit(doc_topic)\n",
    "    output.append(model.inertia_)\n",
    "    sill.append(silhouette_score(doc_topic, labels=model.labels_))\n",
    "\n",
    "fig, ax = plt.subplots()\n",
    "#plt.plot(range(2,11), output)\n",
    "l1, = ax.plot(range(2,20), output, linestyle='-', color='green')\n",
    "ax.vlines(x=12, ymin=0, ymax=10, color='red', linestyle='--')\n",
    "ax2 = ax.twinx()\n",
    "l2, = ax2.plot(range(2,20), sill)\n",
    "plt.xticks(range(2,20));\n",
    "plt.title('K-Means inertia over 2-19 Ks')\n",
    "ax.set_xlabel('K')\n",
    "ax.set_ylabel('Inertia')\n",
    "ax2.set_ylabel('Silhouette Score')\n",
    "plt.legend(handles = [l1, l2],\n",
    "           labels = ['Inertia', 'Silhouette Score'],\n",
    "           loc='center right')\n",
    "fig.savefig('plottemp.jpg')"
   ]
  },
  {
   "cell_type": "code",
   "execution_count": null,
   "id": "618e516e",
   "metadata": {},
   "outputs": [],
   "source": []
  }
 ],
 "metadata": {
  "kernelspec": {
   "display_name": "Python [conda env:metis] *",
   "language": "python",
   "name": "conda-env-metis-py"
  },
  "language_info": {
   "codemirror_mode": {
    "name": "ipython",
    "version": 3
   },
   "file_extension": ".py",
   "mimetype": "text/x-python",
   "name": "python",
   "nbconvert_exporter": "python",
   "pygments_lexer": "ipython3",
   "version": "3.8.10"
  }
 },
 "nbformat": 4,
 "nbformat_minor": 5
}
