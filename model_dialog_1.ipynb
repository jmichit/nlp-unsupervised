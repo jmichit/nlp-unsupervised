{
 "cells": [
  {
   "cell_type": "code",
   "execution_count": 246,
   "id": "17c3e682",
   "metadata": {},
   "outputs": [],
   "source": [
    "import numpy as np\n",
    "import pandas as pd\n",
    "from sklearn.feature_extraction.text import CountVectorizer, ENGLISH_STOP_WORDS, FeatureHasher\n",
    "from sklearn.feature_extraction.text import TfidfVectorizer\n",
    "from sklearn.decomposition import TruncatedSVD\n",
    "from sklearn.decomposition import NMF, PCA\n",
    "from sklearn.metrics.pairwise import cosine_similarity\n",
    "from sklearn.metrics import silhouette_score\n",
    "\n",
    "from sklearn.cluster import KMeans\n",
    "\n",
    "from matplotlib import pyplot as plt\n",
    "import seaborn as sns\n",
    "from copy import deepcopy"
   ]
  },
  {
   "cell_type": "code",
   "execution_count": 247,
   "id": "fbfefb77",
   "metadata": {},
   "outputs": [],
   "source": [
    "def display_topics(model, feature_names, no_top_words, topic_names=None):\n",
    "    for ix, topic in enumerate(model.components_):\n",
    "        if not topic_names or not topic_names[ix]:\n",
    "            print(\"\\nTopic \", ix)\n",
    "        else:\n",
    "            print(\"\\nTopic: '\",topic_names[ix],\"'\")\n",
    "        print(\", \".join([feature_names[i]\n",
    "                        for i in topic.argsort()[:-no_top_words - 1:-1]]))"
   ]
  },
  {
   "cell_type": "code",
   "execution_count": 248,
   "id": "2adf200b",
   "metadata": {},
   "outputs": [],
   "source": [
    "def inertia_sil(doc_topic, xline=None):\n",
    "    output = []\n",
    "    sill = []\n",
    "\n",
    "    for i in range(2,20):\n",
    "        model = KMeans(n_clusters=i)\n",
    "        model.fit(doc_topic)\n",
    "        output.append(model.inertia_)\n",
    "        sill.append(silhouette_score(doc_topic, labels=model.labels_))\n",
    "\n",
    "    fig, ax = plt.subplots()\n",
    "    #plt.plot(range(2,11), output)\n",
    "    l1, = ax.plot(range(2,20), output, linestyle='-', color='green')\n",
    "    if xline:\n",
    "        ax.vlines(x=xline, ymin=0, ymax=10, color='red', linestyle='--')\n",
    "    ax2 = ax.twinx()\n",
    "    l2, = ax2.plot(range(2,20), sill)\n",
    "    plt.xticks(range(2,20));\n",
    "    plt.title('K-Means inertia over 2-19 Ks')\n",
    "    ax.set_xlabel('K')\n",
    "    ax.set_ylabel('Inertia')\n",
    "    ax2.set_ylabel('Silhouette Score')\n",
    "    plt.legend(handles = [l1, l2],\n",
    "               labels = ['Inertia', 'Silhouette Score'],\n",
    "               loc='center right')\n",
    "    fig.savefig('graphics/plottemp.jpg')"
   ]
  },
  {
   "cell_type": "code",
   "execution_count": 296,
   "id": "944c6963",
   "metadata": {},
   "outputs": [],
   "source": [
    "def show_variance_explained_plots(pca):\n",
    "    \n",
    "    var_exp_array = pca.explained_variance_ratio_\n",
    "    n_comps = var_exp_array.shape[0] \n",
    "    \n",
    "    fig, ax = plt.subplots(1,2,figsize=(10,4))\n",
    "    \n",
    "    ax[0].fill_between(range(n_comps), var_exp_array)\n",
    "    ax[0].set_title('Variance Explained by Nth Principal Component')\n",
    "    \n",
    "    ax[1].fill_between(range(n_comps), np.cumsum(var_exp_array))\n",
    "    ax[1].set_title('Cumulative Variance Explained by N Components')\n",
    "    \n",
    "    plt.show()"
   ]
  },
  {
   "cell_type": "code",
   "execution_count": 249,
   "id": "6d382fc6",
   "metadata": {},
   "outputs": [
    {
     "data": {
      "text/plain": [
       "(70172, 5)"
      ]
     },
     "execution_count": 249,
     "metadata": {},
     "output_type": "execute_result"
    }
   ],
   "source": [
    "dialog = pd.read_csv('tng_all_dialog3.csv', index_col=0)\n",
    "dialog.shape"
   ]
  },
  {
   "cell_type": "code",
   "execution_count": 250,
   "id": "099baca4",
   "metadata": {},
   "outputs": [
    {
     "data": {
      "text/html": [
       "<div>\n",
       "<style scoped>\n",
       "    .dataframe tbody tr th:only-of-type {\n",
       "        vertical-align: middle;\n",
       "    }\n",
       "\n",
       "    .dataframe tbody tr th {\n",
       "        vertical-align: top;\n",
       "    }\n",
       "\n",
       "    .dataframe thead th {\n",
       "        text-align: right;\n",
       "    }\n",
       "</style>\n",
       "<table border=\"1\" class=\"dataframe\">\n",
       "  <thead>\n",
       "    <tr style=\"text-align: right;\">\n",
       "      <th></th>\n",
       "      <th>episode</th>\n",
       "      <th>character</th>\n",
       "      <th>dialog</th>\n",
       "      <th>season</th>\n",
       "      <th>character_raw</th>\n",
       "    </tr>\n",
       "  </thead>\n",
       "  <tbody>\n",
       "    <tr>\n",
       "      <th>0</th>\n",
       "      <td>102</td>\n",
       "      <td>picard</td>\n",
       "      <td>That was an incredible program.</td>\n",
       "      <td>1</td>\n",
       "      <td>PICARD V.O.</td>\n",
       "    </tr>\n",
       "    <tr>\n",
       "      <th>1</th>\n",
       "      <td>102</td>\n",
       "      <td>picard</td>\n",
       "      <td>I am glad you approve. I have always found the...</td>\n",
       "      <td>1</td>\n",
       "      <td>PICARD V.O.</td>\n",
       "    </tr>\n",
       "    <tr>\n",
       "      <th>2</th>\n",
       "      <td>102</td>\n",
       "      <td>picard</td>\n",
       "      <td>Worf, we were strolling barefoot along the bea...</td>\n",
       "      <td>1</td>\n",
       "      <td>PICARD V.O.</td>\n",
       "    </tr>\n",
       "    <tr>\n",
       "      <th>3</th>\n",
       "      <td>102</td>\n",
       "      <td>picard</td>\n",
       "      <td>(groping) It was... very stimulating.</td>\n",
       "      <td>1</td>\n",
       "      <td>PICARD V.O.</td>\n",
       "    </tr>\n",
       "    <tr>\n",
       "      <th>4</th>\n",
       "      <td>102</td>\n",
       "      <td>picard</td>\n",
       "      <td>I should take my own advice and use it to rela...</td>\n",
       "      <td>1</td>\n",
       "      <td>PICARD V.O.</td>\n",
       "    </tr>\n",
       "  </tbody>\n",
       "</table>\n",
       "</div>"
      ],
      "text/plain": [
       "   episode character                                             dialog  \\\n",
       "0      102   picard                     That was an incredible program.   \n",
       "1      102   picard   I am glad you approve. I have always found the...   \n",
       "2      102   picard   Worf, we were strolling barefoot along the bea...   \n",
       "3      102   picard               (groping) It was... very stimulating.   \n",
       "4      102   picard   I should take my own advice and use it to rela...   \n",
       "\n",
       "   season character_raw  \n",
       "0       1   PICARD V.O.  \n",
       "1       1   PICARD V.O.  \n",
       "2       1   PICARD V.O.  \n",
       "3       1   PICARD V.O.  \n",
       "4       1   PICARD V.O.  "
      ]
     },
     "execution_count": 250,
     "metadata": {},
     "output_type": "execute_result"
    }
   ],
   "source": [
    "dialog.head()"
   ]
  },
  {
   "cell_type": "code",
   "execution_count": 251,
   "id": "5fb2db62",
   "metadata": {},
   "outputs": [
    {
     "data": {
      "text/plain": [
       "picard     13820\n",
       "riker       8129\n",
       "data        6766\n",
       "geordi      4961\n",
       "worf        4157\n",
       "beverly     3645\n",
       "troi        3580\n",
       "wesley      1487\n",
       "pulaski      643\n",
       "tasha        572\n",
       "Name: character, dtype: int64"
      ]
     },
     "execution_count": 251,
     "metadata": {},
     "output_type": "execute_result"
    }
   ],
   "source": [
    "dialog.character.value_counts()[:10]"
   ]
  },
  {
   "cell_type": "code",
   "execution_count": 253,
   "id": "02f44d36",
   "metadata": {},
   "outputs": [],
   "source": [
    "#separate out top 5 characters by dialog\n",
    "char_dialog = {}\n",
    "for character in dialog.character.value_counts()[:5].index:\n",
    "    char_dialog[character] = deepcopy(dialog[dialog.character == character])"
   ]
  },
  {
   "cell_type": "code",
   "execution_count": 254,
   "id": "7b55c26b",
   "metadata": {},
   "outputs": [],
   "source": [
    "vectorizer = TfidfVectorizer(ngram_range=(1,2), stop_words=ENGLISH_STOP_WORDS)"
   ]
  },
  {
   "cell_type": "markdown",
   "id": "d1907def",
   "metadata": {},
   "source": [
    "## Identify topics for 'Picard'"
   ]
  },
  {
   "cell_type": "code",
   "execution_count": 255,
   "id": "ab444cfe",
   "metadata": {},
   "outputs": [],
   "source": [
    "doc_word_matrix = vectorizer.fit_transform(char_dialog['picard'].dialog)"
   ]
  },
  {
   "cell_type": "code",
   "execution_count": 256,
   "id": "c0480df3",
   "metadata": {},
   "outputs": [
    {
     "data": {
      "text/plain": [
       "<13820x4086 sparse matrix of type '<class 'numpy.float64'>'\n",
       "\twith 138921 stored elements in Compressed Sparse Row format>"
      ]
     },
     "execution_count": 256,
     "metadata": {},
     "output_type": "execute_result"
    }
   ],
   "source": [
    "doc_word_matrix"
   ]
  },
  {
   "cell_type": "code",
   "execution_count": 257,
   "id": "6ef40c81",
   "metadata": {},
   "outputs": [
    {
     "data": {
      "text/plain": [
       "(13820, 10)"
      ]
     },
     "execution_count": 257,
     "metadata": {},
     "output_type": "execute_result"
    }
   ],
   "source": [
    "doc_topic_matrix.shape"
   ]
  },
  {
   "cell_type": "code",
   "execution_count": 234,
   "id": "2a72b6c3",
   "metadata": {},
   "outputs": [
    {
     "data": {
      "image/png": "[encoded data removed]",
      "text/plain": [
       "<Figure size 432x288 with 2 Axes>"
      ]
     },
     "metadata": {
      "needs_background": "light"
     },
     "output_type": "display_data"
    }
   ],
   "source": [
    "#no decomposition\n",
    "inertia_sil(doc_word_matrix)"
   ]
  },
  {
   "cell_type": "code",
   "execution_count": 235,
   "id": "1c0db7af",
   "metadata": {},
   "outputs": [
    {
     "data": {
      "image/png": "[encoded data removed]",
      "text/plain": [
       "<Figure size 432x288 with 2 Axes>"
      ]
     },
     "metadata": {
      "needs_background": "light"
     },
     "output_type": "display_data"
    }
   ],
   "source": [
    "nmf = TruncatedSVD(n_components=100)\n",
    "doc_topic_matrix = nmf.fit_transform(doc_word_matrix)\n",
    "inertia_sil(doc_topic_matrix) #100 component NMF"
   ]
  },
  {
   "cell_type": "code",
   "execution_count": 236,
   "id": "b7a693e8",
   "metadata": {},
   "outputs": [
    {
     "data": {
      "image/png": "[encoded data removed]",
      "text/plain": [
       "<Figure size 432x288 with 2 Axes>"
      ]
     },
     "metadata": {
      "needs_background": "light"
     },
     "output_type": "display_data"
    }
   ],
   "source": [
    "nmf = TruncatedSVD(n_components=50)\n",
    "doc_topic_matrix = nmf.fit_transform(doc_word_matrix)\n",
    "inertia_sil(doc_topic_matrix) #50 component NMF"
   ]
  },
  {
   "cell_type": "code",
   "execution_count": 297,
   "id": "0beccc8e",
   "metadata": {},
   "outputs": [
    {
     "data": {
      "image/png": "[encoded data removed]",
      "text/plain": [
       "<Figure size 432x288 with 2 Axes>"
      ]
     },
     "metadata": {
      "needs_background": "light"
     },
     "output_type": "display_data"
    }
   ],
   "source": [
    "svd = TruncatedSVD(n_components=10)\n",
    "doc_topic_matrix = svd.fit_transform(doc_word_matrix)\n",
    "inertia_sil(doc_topic_matrix, xline=5) #25 component NMF\n",
    "plt.savefig('Kmeans-picard')"
   ]
  },
  {
   "cell_type": "code",
   "execution_count": 298,
   "id": "bceee772",
   "metadata": {},
   "outputs": [
    {
     "data": {
      "image/png": "[encoded data removed]",
      "text/plain": [
       "<Figure size 720x288 with 2 Axes>"
      ]
     },
     "metadata": {
      "needs_background": "light"
     },
     "output_type": "display_data"
    }
   ],
   "source": [
    "show_variance_explained_plots(svd)"
   ]
  },
  {
   "cell_type": "code",
   "execution_count": 259,
   "id": "a8175c2c",
   "metadata": {},
   "outputs": [],
   "source": [
    "km = KMeans(n_clusters=5)"
   ]
  },
  {
   "cell_type": "code",
   "execution_count": 260,
   "id": "627ba705",
   "metadata": {},
   "outputs": [
    {
     "data": {
      "text/plain": [
       "KMeans(n_clusters=5)"
      ]
     },
     "execution_count": 260,
     "metadata": {},
     "output_type": "execute_result"
    }
   ],
   "source": [
    "km.fit(doc_topic_matrix)"
   ]
  },
  {
   "cell_type": "code",
   "execution_count": 261,
   "id": "c5d40c58",
   "metadata": {},
   "outputs": [
    {
     "data": {
      "text/plain": [
       "(13820,)"
      ]
     },
     "execution_count": 261,
     "metadata": {},
     "output_type": "execute_result"
    }
   ],
   "source": [
    "clusters = km.predict(doc_topic_matrix)\n",
    "clusters.shape"
   ]
  },
  {
   "cell_type": "code",
   "execution_count": 262,
   "id": "7087b71b",
   "metadata": {},
   "outputs": [
    {
     "data": {
      "text/plain": [
       "(13820, 10)"
      ]
     },
     "execution_count": 262,
     "metadata": {},
     "output_type": "execute_result"
    }
   ],
   "source": [
    "doc_topic_matrix.shape"
   ]
  },
  {
   "cell_type": "code",
   "execution_count": 263,
   "id": "233dbc7d",
   "metadata": {},
   "outputs": [],
   "source": [
    "x = char_dialog['picard']\n",
    "x.loc['cluster'] = clusters"
   ]
  },
  {
   "cell_type": "code",
   "execution_count": 264,
   "id": "3d7d9ea7",
   "metadata": {},
   "outputs": [
    {
     "data": {
      "text/plain": [
       "710.9974615209744"
      ]
     },
     "execution_count": 264,
     "metadata": {},
     "output_type": "execute_result"
    }
   ],
   "source": [
    "km.inertia_"
   ]
  },
  {
   "cell_type": "code",
   "execution_count": 265,
   "id": "c5fd343d",
   "metadata": {},
   "outputs": [
    {
     "data": {
      "text/plain": [
       "1    12474\n",
       "3      480\n",
       "4      358\n",
       "0      348\n",
       "2      160\n",
       "Name: cluster, dtype: int64"
      ]
     },
     "execution_count": 265,
     "metadata": {},
     "output_type": "execute_result"
    }
   ],
   "source": [
    "x.cluster.value_counts()"
   ]
  },
  {
   "cell_type": "code",
   "execution_count": 266,
   "id": "316f3912",
   "metadata": {},
   "outputs": [
    {
     "data": {
      "text/plain": [
       "1    0.902605\n",
       "3    0.034732\n",
       "4    0.025904\n",
       "0    0.025181\n",
       "2    0.011577\n",
       "Name: cluster, dtype: float64"
      ]
     },
     "execution_count": 266,
     "metadata": {},
     "output_type": "execute_result"
    }
   ],
   "source": [
    "x.cluster.value_counts(normalize=True)"
   ]
  },
  {
   "cell_type": "code",
   "execution_count": 274,
   "id": "1f9eeca7",
   "metadata": {},
   "outputs": [
    {
     "data": {
      "text/html": [
       "<div>\n",
       "<style scoped>\n",
       "    .dataframe tbody tr th:only-of-type {\n",
       "        vertical-align: middle;\n",
       "    }\n",
       "\n",
       "    .dataframe tbody tr th {\n",
       "        vertical-align: top;\n",
       "    }\n",
       "\n",
       "    .dataframe thead th {\n",
       "        text-align: right;\n",
       "    }\n",
       "</style>\n",
       "<table border=\"1\" class=\"dataframe\">\n",
       "  <thead>\n",
       "    <tr style=\"text-align: right;\">\n",
       "      <th></th>\n",
       "      <th>episode</th>\n",
       "      <th>character</th>\n",
       "      <th>dialog</th>\n",
       "      <th>season</th>\n",
       "      <th>character_raw</th>\n",
       "      <th>cluster</th>\n",
       "    </tr>\n",
       "  </thead>\n",
       "  <tbody>\n",
       "    <tr>\n",
       "      <th>60</th>\n",
       "      <td>102</td>\n",
       "      <td>picard</td>\n",
       "      <td>Sir... ?</td>\n",
       "      <td>1</td>\n",
       "      <td>PICARD</td>\n",
       "      <td>3</td>\n",
       "    </tr>\n",
       "    <tr>\n",
       "      <th>66</th>\n",
       "      <td>102</td>\n",
       "      <td>picard</td>\n",
       "      <td>Have I done something wrong, sir?</td>\n",
       "      <td>1</td>\n",
       "      <td>PICARD</td>\n",
       "      <td>3</td>\n",
       "    </tr>\n",
       "    <tr>\n",
       "      <th>174</th>\n",
       "      <td>102</td>\n",
       "      <td>picard</td>\n",
       "      <td>Sir?</td>\n",
       "      <td>1</td>\n",
       "      <td>PICARD</td>\n",
       "      <td>3</td>\n",
       "    </tr>\n",
       "    <tr>\n",
       "      <th>181</th>\n",
       "      <td>102</td>\n",
       "      <td>picard</td>\n",
       "      <td>(surprised) That's right, sir.</td>\n",
       "      <td>1</td>\n",
       "      <td>PICARD</td>\n",
       "      <td>3</td>\n",
       "    </tr>\n",
       "    <tr>\n",
       "      <th>530</th>\n",
       "      <td>102</td>\n",
       "      <td>picard</td>\n",
       "      <td>Aye, sir.</td>\n",
       "      <td>1</td>\n",
       "      <td>PICARD</td>\n",
       "      <td>3</td>\n",
       "    </tr>\n",
       "    <tr>\n",
       "      <th>...</th>\n",
       "      <td>...</td>\n",
       "      <td>...</td>\n",
       "      <td>...</td>\n",
       "      <td>...</td>\n",
       "      <td>...</td>\n",
       "      <td>...</td>\n",
       "    </tr>\n",
       "    <tr>\n",
       "      <th>206</th>\n",
       "      <td>125</td>\n",
       "      <td>picard</td>\n",
       "      <td>It is... good to see you, too, sir.</td>\n",
       "      <td>1</td>\n",
       "      <td>PICARD</td>\n",
       "      <td>3</td>\n",
       "    </tr>\n",
       "    <tr>\n",
       "      <th>330</th>\n",
       "      <td>125</td>\n",
       "      <td>picard</td>\n",
       "      <td>Nothing, sir.</td>\n",
       "      <td>1</td>\n",
       "      <td>PICARD</td>\n",
       "      <td>3</td>\n",
       "    </tr>\n",
       "    <tr>\n",
       "      <th>332</th>\n",
       "      <td>125</td>\n",
       "      <td>picard</td>\n",
       "      <td>Who, sir?</td>\n",
       "      <td>1</td>\n",
       "      <td>PICARD</td>\n",
       "      <td>3</td>\n",
       "    </tr>\n",
       "    <tr>\n",
       "      <th>335</th>\n",
       "      <td>125</td>\n",
       "      <td>picard</td>\n",
       "      <td>No, sir.</td>\n",
       "      <td>1</td>\n",
       "      <td>PICARD</td>\n",
       "      <td>3</td>\n",
       "    </tr>\n",
       "    <tr>\n",
       "      <th>59</th>\n",
       "      <td>126</td>\n",
       "      <td>picard</td>\n",
       "      <td>Are you all right, sir?</td>\n",
       "      <td>1</td>\n",
       "      <td>PICARD</td>\n",
       "      <td>3</td>\n",
       "    </tr>\n",
       "  </tbody>\n",
       "</table>\n",
       "<p>100 rows × 6 columns</p>\n",
       "</div>"
      ],
      "text/plain": [
       "     episode character                               dialog  season  \\\n",
       "60       102    picard                             Sir... ?       1   \n",
       "66       102    picard    Have I done something wrong, sir?       1   \n",
       "174      102    picard                                 Sir?       1   \n",
       "181      102    picard       (surprised) That's right, sir.       1   \n",
       "530      102    picard                            Aye, sir.       1   \n",
       "..       ...       ...                                  ...     ...   \n",
       "206      125    picard  It is... good to see you, too, sir.       1   \n",
       "330      125    picard                        Nothing, sir.       1   \n",
       "332      125    picard                            Who, sir?       1   \n",
       "335      125    picard                             No, sir.       1   \n",
       "59       126    picard              Are you all right, sir?       1   \n",
       "\n",
       "    character_raw  cluster  \n",
       "60         PICARD        3  \n",
       "66         PICARD        3  \n",
       "174        PICARD        3  \n",
       "181        PICARD        3  \n",
       "530        PICARD        3  \n",
       "..            ...      ...  \n",
       "206        PICARD        3  \n",
       "330        PICARD        3  \n",
       "332        PICARD        3  \n",
       "335        PICARD        3  \n",
       "59         PICARD        3  \n",
       "\n",
       "[100 rows x 6 columns]"
      ]
     },
     "execution_count": 274,
     "metadata": {},
     "output_type": "execute_result"
    }
   ],
   "source": [
    "x[x.cluster==3].head(100)\n"
   ]
  },
  {
   "cell_type": "code",
   "execution_count": 218,
   "id": "8d3be428",
   "metadata": {},
   "outputs": [
    {
     "data": {
      "text/html": [
       "<div>\n",
       "<style scoped>\n",
       "    .dataframe tbody tr th:only-of-type {\n",
       "        vertical-align: middle;\n",
       "    }\n",
       "\n",
       "    .dataframe tbody tr th {\n",
       "        vertical-align: top;\n",
       "    }\n",
       "\n",
       "    .dataframe thead th {\n",
       "        text-align: right;\n",
       "    }\n",
       "</style>\n",
       "<table border=\"1\" class=\"dataframe\">\n",
       "  <thead>\n",
       "    <tr style=\"text-align: right;\">\n",
       "      <th></th>\n",
       "      <th>episode</th>\n",
       "      <th>character</th>\n",
       "      <th>dialog</th>\n",
       "      <th>season</th>\n",
       "      <th>character_raw</th>\n",
       "    </tr>\n",
       "  </thead>\n",
       "  <tbody>\n",
       "    <tr>\n",
       "      <th>190</th>\n",
       "      <td>242</td>\n",
       "      <td>picard</td>\n",
       "      <td>All those years you spent as a child... buildi...</td>\n",
       "      <td>6</td>\n",
       "      <td>PICARD</td>\n",
       "    </tr>\n",
       "    <tr>\n",
       "      <th>58</th>\n",
       "      <td>127</td>\n",
       "      <td>picard</td>\n",
       "      <td>Captain?</td>\n",
       "      <td>2</td>\n",
       "      <td>PICARD</td>\n",
       "    </tr>\n",
       "    <tr>\n",
       "      <th>108</th>\n",
       "      <td>109</td>\n",
       "      <td>picard</td>\n",
       "      <td>Captain... what's wrong?</td>\n",
       "      <td>1</td>\n",
       "      <td>PICARD</td>\n",
       "    </tr>\n",
       "    <tr>\n",
       "      <th>30</th>\n",
       "      <td>166</td>\n",
       "      <td>picard</td>\n",
       "      <td>How about Mister Picard?</td>\n",
       "      <td>3</td>\n",
       "      <td>PICARD</td>\n",
       "    </tr>\n",
       "    <tr>\n",
       "      <th>13</th>\n",
       "      <td>215</td>\n",
       "      <td>picard</td>\n",
       "      <td>Captain, what's wrong?</td>\n",
       "      <td>5</td>\n",
       "      <td>PICARD</td>\n",
       "    </tr>\n",
       "    <tr>\n",
       "      <th>157</th>\n",
       "      <td>111</td>\n",
       "      <td>picard</td>\n",
       "      <td>We've completed a full subspace scan of the sh...</td>\n",
       "      <td>1</td>\n",
       "      <td>PICARD</td>\n",
       "    </tr>\n",
       "    <tr>\n",
       "      <th>200</th>\n",
       "      <td>171</td>\n",
       "      <td>picard</td>\n",
       "      <td>(groping) A figure of speech... I was trying t...</td>\n",
       "      <td>3</td>\n",
       "      <td>PICARD</td>\n",
       "    </tr>\n",
       "    <tr>\n",
       "      <th>247</th>\n",
       "      <td>195</td>\n",
       "      <td>picard</td>\n",
       "      <td>A prescription. A glass of warm milk and eight...</td>\n",
       "      <td>4</td>\n",
       "      <td>PICARD</td>\n",
       "    </tr>\n",
       "    <tr>\n",
       "      <th>290</th>\n",
       "      <td>154</td>\n",
       "      <td>picard</td>\n",
       "      <td>(continuing) We could arrange passage aboard a...</td>\n",
       "      <td>3</td>\n",
       "      <td>PICARD</td>\n",
       "    </tr>\n",
       "    <tr>\n",
       "      <th>72</th>\n",
       "      <td>104</td>\n",
       "      <td>picard</td>\n",
       "      <td>Tasha... I was just with Tasha, in the shuttle...</td>\n",
       "      <td>1</td>\n",
       "      <td>PICARD</td>\n",
       "    </tr>\n",
       "  </tbody>\n",
       "</table>\n",
       "</div>"
      ],
      "text/plain": [
       "     episode character                                             dialog  \\\n",
       "190      242    picard  All those years you spent as a child... buildi...   \n",
       "58       127    picard                                           Captain?   \n",
       "108      109    picard                           Captain... what's wrong?   \n",
       "30       166    picard                           How about Mister Picard?   \n",
       "13       215    picard                             Captain, what's wrong?   \n",
       "157      111    picard  We've completed a full subspace scan of the sh...   \n",
       "200      171    picard  (groping) A figure of speech... I was trying t...   \n",
       "247      195    picard  A prescription. A glass of warm milk and eight...   \n",
       "290      154    picard  (continuing) We could arrange passage aboard a...   \n",
       "72       104    picard  Tasha... I was just with Tasha, in the shuttle...   \n",
       "\n",
       "     season character_raw  \n",
       "190       6        PICARD  \n",
       "58        2        PICARD  \n",
       "108       1        PICARD  \n",
       "30        3        PICARD  \n",
       "13        5        PICARD  \n",
       "157       1        PICARD  \n",
       "200       3        PICARD  \n",
       "247       4        PICARD  \n",
       "290       3        PICARD  \n",
       "72        1        PICARD  "
      ]
     },
     "execution_count": 218,
     "metadata": {},
     "output_type": "execute_result"
    }
   ],
   "source": [
    "dialog[dialog.character == 'picard'].sample(10)"
   ]
  },
  {
   "cell_type": "code",
   "execution_count": null,
   "id": "ad3753d2",
   "metadata": {},
   "outputs": [],
   "source": []
  },
  {
   "cell_type": "markdown",
   "id": "394c942a",
   "metadata": {},
   "source": [
    "## Identify topics for Riker"
   ]
  },
  {
   "cell_type": "code",
   "execution_count": 275,
   "id": "bbd4f948",
   "metadata": {},
   "outputs": [],
   "source": [
    "doc_word_matrix = vectorizer.fit_transform(char_dialog['riker'].dialog)"
   ]
  },
  {
   "cell_type": "code",
   "execution_count": 276,
   "id": "a15159d3",
   "metadata": {},
   "outputs": [
    {
     "data": {
      "text/plain": [
       "<8129x3684 sparse matrix of type '<class 'numpy.float64'>'\n",
       "\twith 82138 stored elements in Compressed Sparse Row format>"
      ]
     },
     "execution_count": 276,
     "metadata": {},
     "output_type": "execute_result"
    }
   ],
   "source": [
    "doc_word_matrix"
   ]
  },
  {
   "cell_type": "code",
   "execution_count": 277,
   "id": "12519c65",
   "metadata": {},
   "outputs": [
    {
     "data": {
      "text/plain": [
       "(8129, 3684)"
      ]
     },
     "execution_count": 277,
     "metadata": {},
     "output_type": "execute_result"
    }
   ],
   "source": [
    "doc_word_matrix.shape"
   ]
  },
  {
   "cell_type": "code",
   "execution_count": 279,
   "id": "c1310fca",
   "metadata": {},
   "outputs": [
    {
     "data": {
      "image/png": "[encoded data removed]",
      "text/plain": [
       "<Figure size 432x288 with 2 Axes>"
      ]
     },
     "metadata": {
      "needs_background": "light"
     },
     "output_type": "display_data"
    }
   ],
   "source": [
    "svd = TruncatedSVD(n_components=10)\n",
    "doc_topic_matrix = svd.fit_transform(doc_word_matrix)\n",
    "inertia_sil(doc_topic_matrix) #25 component NMF\n",
    "plt.savefig('Kmeans-riker')"
   ]
  },
  {
   "cell_type": "code",
   "execution_count": 280,
   "id": "9b48a932",
   "metadata": {},
   "outputs": [],
   "source": [
    "km = KMeans(n_clusters=5)"
   ]
  },
  {
   "cell_type": "code",
   "execution_count": 281,
   "id": "8b4205f3",
   "metadata": {},
   "outputs": [
    {
     "data": {
      "text/plain": [
       "KMeans(n_clusters=5)"
      ]
     },
     "execution_count": 281,
     "metadata": {},
     "output_type": "execute_result"
    }
   ],
   "source": [
    "km.fit(doc_topic_matrix)"
   ]
  },
  {
   "cell_type": "code",
   "execution_count": 282,
   "id": "0c84ee4d",
   "metadata": {},
   "outputs": [
    {
     "data": {
      "text/plain": [
       "(8129,)"
      ]
     },
     "execution_count": 282,
     "metadata": {},
     "output_type": "execute_result"
    }
   ],
   "source": [
    "clusters = km.predict(doc_topic_matrix)\n",
    "clusters.shape"
   ]
  },
  {
   "cell_type": "code",
   "execution_count": 285,
   "id": "5f9b8004",
   "metadata": {},
   "outputs": [],
   "source": [
    "y = char_dialog['riker']\n",
    "y.loc[:,'cluster'] = clusters"
   ]
  },
  {
   "cell_type": "code",
   "execution_count": 286,
   "id": "63d36239",
   "metadata": {},
   "outputs": [
    {
     "data": {
      "text/html": [
       "<div>\n",
       "<style scoped>\n",
       "    .dataframe tbody tr th:only-of-type {\n",
       "        vertical-align: middle;\n",
       "    }\n",
       "\n",
       "    .dataframe tbody tr th {\n",
       "        vertical-align: top;\n",
       "    }\n",
       "\n",
       "    .dataframe thead th {\n",
       "        text-align: right;\n",
       "    }\n",
       "</style>\n",
       "<table border=\"1\" class=\"dataframe\">\n",
       "  <thead>\n",
       "    <tr style=\"text-align: right;\">\n",
       "      <th></th>\n",
       "      <th>episode</th>\n",
       "      <th>character</th>\n",
       "      <th>dialog</th>\n",
       "      <th>season</th>\n",
       "      <th>character_raw</th>\n",
       "      <th>cluster</th>\n",
       "    </tr>\n",
       "  </thead>\n",
       "  <tbody>\n",
       "    <tr>\n",
       "      <th>200</th>\n",
       "      <td>102</td>\n",
       "      <td>riker</td>\n",
       "      <td>(groping) A figure of speech... I was trying t...</td>\n",
       "      <td>1</td>\n",
       "      <td>RIKER'S VOICE</td>\n",
       "      <td>0</td>\n",
       "    </tr>\n",
       "    <tr>\n",
       "      <th>201</th>\n",
       "      <td>102</td>\n",
       "      <td>riker</td>\n",
       "      <td>Ah. Then \"to burn the midnight oil\" implies la...</td>\n",
       "      <td>1</td>\n",
       "      <td>RIKER'S VOICE</td>\n",
       "      <td>0</td>\n",
       "    </tr>\n",
       "    <tr>\n",
       "      <th>202</th>\n",
       "      <td>102</td>\n",
       "      <td>riker</td>\n",
       "      <td>That's right.</td>\n",
       "      <td>1</td>\n",
       "      <td>RIKER'S VOICE</td>\n",
       "      <td>0</td>\n",
       "    </tr>\n",
       "    <tr>\n",
       "      <th>203</th>\n",
       "      <td>102</td>\n",
       "      <td>riker</td>\n",
       "      <td>I am curious. What is the etymology of that id...</td>\n",
       "      <td>1</td>\n",
       "      <td>RIKER'S VOICE</td>\n",
       "      <td>0</td>\n",
       "    </tr>\n",
       "    <tr>\n",
       "      <th>205</th>\n",
       "      <td>102</td>\n",
       "      <td>riker</td>\n",
       "      <td>Commander Data, welcome aboard -- it's good to...</td>\n",
       "      <td>1</td>\n",
       "      <td>RIKER</td>\n",
       "      <td>0</td>\n",
       "    </tr>\n",
       "    <tr>\n",
       "      <th>...</th>\n",
       "      <td>...</td>\n",
       "      <td>...</td>\n",
       "      <td>...</td>\n",
       "      <td>...</td>\n",
       "      <td>...</td>\n",
       "      <td>...</td>\n",
       "    </tr>\n",
       "    <tr>\n",
       "      <th>840</th>\n",
       "      <td>277</td>\n",
       "      <td>riker</td>\n",
       "      <td>Come in.</td>\n",
       "      <td>7</td>\n",
       "      <td>RIKER</td>\n",
       "      <td>0</td>\n",
       "    </tr>\n",
       "    <tr>\n",
       "      <th>842</th>\n",
       "      <td>277</td>\n",
       "      <td>riker</td>\n",
       "      <td>Not at all. Have a seat.</td>\n",
       "      <td>7</td>\n",
       "      <td>RIKER</td>\n",
       "      <td>0</td>\n",
       "    </tr>\n",
       "    <tr>\n",
       "      <th>845</th>\n",
       "      <td>277</td>\n",
       "      <td>riker</td>\n",
       "      <td>Come.</td>\n",
       "      <td>7</td>\n",
       "      <td>RIKER</td>\n",
       "      <td>0</td>\n",
       "    </tr>\n",
       "    <tr>\n",
       "      <th>846</th>\n",
       "      <td>277</td>\n",
       "      <td>riker</td>\n",
       "      <td>(continuing) Captain. Is there a problem?</td>\n",
       "      <td>7</td>\n",
       "      <td>RIKER</td>\n",
       "      <td>0</td>\n",
       "    </tr>\n",
       "    <tr>\n",
       "      <th>848</th>\n",
       "      <td>277</td>\n",
       "      <td>riker</td>\n",
       "      <td>Of course.</td>\n",
       "      <td>7</td>\n",
       "      <td>RIKER</td>\n",
       "      <td>0</td>\n",
       "    </tr>\n",
       "  </tbody>\n",
       "</table>\n",
       "<p>8129 rows × 6 columns</p>\n",
       "</div>"
      ],
      "text/plain": [
       "     episode character                                             dialog  \\\n",
       "200      102     riker  (groping) A figure of speech... I was trying t...   \n",
       "201      102     riker  Ah. Then \"to burn the midnight oil\" implies la...   \n",
       "202      102     riker                                      That's right.   \n",
       "203      102     riker  I am curious. What is the etymology of that id...   \n",
       "205      102     riker  Commander Data, welcome aboard -- it's good to...   \n",
       "..       ...       ...                                                ...   \n",
       "840      277     riker                                           Come in.   \n",
       "842      277     riker                           Not at all. Have a seat.   \n",
       "845      277     riker                                              Come.   \n",
       "846      277     riker          (continuing) Captain. Is there a problem?   \n",
       "848      277     riker                                         Of course.   \n",
       "\n",
       "     season  character_raw  cluster  \n",
       "200       1  RIKER'S VOICE        0  \n",
       "201       1  RIKER'S VOICE        0  \n",
       "202       1  RIKER'S VOICE        0  \n",
       "203       1  RIKER'S VOICE        0  \n",
       "205       1          RIKER        0  \n",
       "..      ...            ...      ...  \n",
       "840       7          RIKER        0  \n",
       "842       7          RIKER        0  \n",
       "845       7          RIKER        0  \n",
       "846       7          RIKER        0  \n",
       "848       7          RIKER        0  \n",
       "\n",
       "[8129 rows x 6 columns]"
      ]
     },
     "execution_count": 286,
     "metadata": {},
     "output_type": "execute_result"
    }
   ],
   "source": [
    "y"
   ]
  },
  {
   "cell_type": "code",
   "execution_count": 287,
   "id": "9d23ddbb",
   "metadata": {},
   "outputs": [
    {
     "data": {
      "text/plain": [
       "451.714741148219"
      ]
     },
     "execution_count": 287,
     "metadata": {},
     "output_type": "execute_result"
    }
   ],
   "source": [
    "km.inertia_"
   ]
  },
  {
   "cell_type": "code",
   "execution_count": 288,
   "id": "8e034704",
   "metadata": {},
   "outputs": [
    {
     "data": {
      "text/plain": [
       "0    7184\n",
       "4     272\n",
       "1     258\n",
       "2     218\n",
       "3     197\n",
       "Name: cluster, dtype: int64"
      ]
     },
     "execution_count": 288,
     "metadata": {},
     "output_type": "execute_result"
    }
   ],
   "source": [
    "y.cluster.value_counts()"
   ]
  },
  {
   "cell_type": "code",
   "execution_count": 289,
   "id": "a57687fa",
   "metadata": {},
   "outputs": [
    {
     "data": {
      "text/plain": [
       "0    0.883750\n",
       "4    0.033460\n",
       "1    0.031738\n",
       "2    0.026818\n",
       "3    0.024234\n",
       "Name: cluster, dtype: float64"
      ]
     },
     "execution_count": 289,
     "metadata": {},
     "output_type": "execute_result"
    }
   ],
   "source": [
    "y.cluster.value_counts(normalize=True)"
   ]
  },
  {
   "cell_type": "code",
   "execution_count": 295,
   "id": "d33c68de",
   "metadata": {},
   "outputs": [
    {
     "data": {
      "text/html": [
       "<div>\n",
       "<style scoped>\n",
       "    .dataframe tbody tr th:only-of-type {\n",
       "        vertical-align: middle;\n",
       "    }\n",
       "\n",
       "    .dataframe tbody tr th {\n",
       "        vertical-align: top;\n",
       "    }\n",
       "\n",
       "    .dataframe thead th {\n",
       "        text-align: right;\n",
       "    }\n",
       "</style>\n",
       "<table border=\"1\" class=\"dataframe\">\n",
       "  <thead>\n",
       "    <tr style=\"text-align: right;\">\n",
       "      <th></th>\n",
       "      <th>episode</th>\n",
       "      <th>character</th>\n",
       "      <th>dialog</th>\n",
       "      <th>season</th>\n",
       "      <th>character_raw</th>\n",
       "      <th>cluster</th>\n",
       "    </tr>\n",
       "  </thead>\n",
       "  <tbody>\n",
       "    <tr>\n",
       "      <th>214</th>\n",
       "      <td>102</td>\n",
       "      <td>riker</td>\n",
       "      <td>Yes...</td>\n",
       "      <td>1</td>\n",
       "      <td>RIKER</td>\n",
       "      <td>3</td>\n",
       "    </tr>\n",
       "    <tr>\n",
       "      <th>220</th>\n",
       "      <td>102</td>\n",
       "      <td>riker</td>\n",
       "      <td>Yes.</td>\n",
       "      <td>1</td>\n",
       "      <td>RIKER</td>\n",
       "      <td>3</td>\n",
       "    </tr>\n",
       "    <tr>\n",
       "      <th>293</th>\n",
       "      <td>102</td>\n",
       "      <td>riker</td>\n",
       "      <td>(excited) Yes... yes...</td>\n",
       "      <td>1</td>\n",
       "      <td>RIKER</td>\n",
       "      <td>3</td>\n",
       "    </tr>\n",
       "    <tr>\n",
       "      <th>125</th>\n",
       "      <td>103</td>\n",
       "      <td>riker</td>\n",
       "      <td>Yes... yes... I think he's...</td>\n",
       "      <td>1</td>\n",
       "      <td>RIKER</td>\n",
       "      <td>3</td>\n",
       "    </tr>\n",
       "    <tr>\n",
       "      <th>293</th>\n",
       "      <td>103</td>\n",
       "      <td>riker</td>\n",
       "      <td>(excited) Yes... yes...</td>\n",
       "      <td>1</td>\n",
       "      <td>RIKER</td>\n",
       "      <td>3</td>\n",
       "    </tr>\n",
       "    <tr>\n",
       "      <th>...</th>\n",
       "      <td>...</td>\n",
       "      <td>...</td>\n",
       "      <td>...</td>\n",
       "      <td>...</td>\n",
       "      <td>...</td>\n",
       "      <td>...</td>\n",
       "    </tr>\n",
       "    <tr>\n",
       "      <th>220</th>\n",
       "      <td>172</td>\n",
       "      <td>riker</td>\n",
       "      <td>Yes.</td>\n",
       "      <td>3</td>\n",
       "      <td>RIKER</td>\n",
       "      <td>3</td>\n",
       "    </tr>\n",
       "    <tr>\n",
       "      <th>355</th>\n",
       "      <td>172</td>\n",
       "      <td>riker</td>\n",
       "      <td>Oh, most definitely yes.</td>\n",
       "      <td>3</td>\n",
       "      <td>RIKER</td>\n",
       "      <td>3</td>\n",
       "    </tr>\n",
       "    <tr>\n",
       "      <th>130</th>\n",
       "      <td>174</td>\n",
       "      <td>riker</td>\n",
       "      <td>Yes... Data... yes...</td>\n",
       "      <td>3</td>\n",
       "      <td>RIKER</td>\n",
       "      <td>3</td>\n",
       "    </tr>\n",
       "    <tr>\n",
       "      <th>250</th>\n",
       "      <td>174</td>\n",
       "      <td>riker</td>\n",
       "      <td>(lightly) Yes, sir.</td>\n",
       "      <td>3</td>\n",
       "      <td>RIKER</td>\n",
       "      <td>3</td>\n",
       "    </tr>\n",
       "    <tr>\n",
       "      <th>293</th>\n",
       "      <td>174</td>\n",
       "      <td>riker</td>\n",
       "      <td>(excited) Yes... yes...</td>\n",
       "      <td>3</td>\n",
       "      <td>RIKER</td>\n",
       "      <td>3</td>\n",
       "    </tr>\n",
       "  </tbody>\n",
       "</table>\n",
       "<p>100 rows × 6 columns</p>\n",
       "</div>"
      ],
      "text/plain": [
       "     episode character                         dialog  season character_raw  \\\n",
       "214      102     riker                         Yes...       1         RIKER   \n",
       "220      102     riker                           Yes.       1         RIKER   \n",
       "293      102     riker        (excited) Yes... yes...       1         RIKER   \n",
       "125      103     riker  Yes... yes... I think he's...       1         RIKER   \n",
       "293      103     riker        (excited) Yes... yes...       1         RIKER   \n",
       "..       ...       ...                            ...     ...           ...   \n",
       "220      172     riker                           Yes.       3         RIKER   \n",
       "355      172     riker       Oh, most definitely yes.       3         RIKER   \n",
       "130      174     riker          Yes... Data... yes...       3         RIKER   \n",
       "250      174     riker            (lightly) Yes, sir.       3         RIKER   \n",
       "293      174     riker        (excited) Yes... yes...       3         RIKER   \n",
       "\n",
       "     cluster  \n",
       "214        3  \n",
       "220        3  \n",
       "293        3  \n",
       "125        3  \n",
       "293        3  \n",
       "..       ...  \n",
       "220        3  \n",
       "355        3  \n",
       "130        3  \n",
       "250        3  \n",
       "293        3  \n",
       "\n",
       "[100 rows x 6 columns]"
      ]
     },
     "execution_count": 295,
     "metadata": {},
     "output_type": "execute_result"
    }
   ],
   "source": [
    "y[y.cluster==3].head(100)\n"
   ]
  },
  {
   "cell_type": "code",
   "execution_count": null,
   "id": "0b40a221",
   "metadata": {},
   "outputs": [],
   "source": []
  },
  {
   "cell_type": "code",
   "execution_count": null,
   "id": "fa85bd24",
   "metadata": {},
   "outputs": [],
   "source": []
  }
 ],
 "metadata": {
  "kernelspec": {
   "display_name": "Python [conda env:metis] *",
   "language": "python",
   "name": "conda-env-metis-py"
  },
  "language_info": {
   "codemirror_mode": {
    "name": "ipython",
    "version": 3
   },
   "file_extension": ".py",
   "mimetype": "text/x-python",
   "name": "python",
   "nbconvert_exporter": "python",
   "pygments_lexer": "ipython3",
   "version": "3.8.10"
  }
 },
 "nbformat": 4,
 "nbformat_minor": 5
}
